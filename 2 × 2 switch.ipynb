{
 "cells": [
  {
   "cell_type": "code",
   "execution_count": 1,
   "metadata": {},
   "outputs": [],
   "source": [
    "import numpy as np\n",
    "import itertools\n",
    "import random"
   ]
  },
  {
   "cell_type": "code",
   "execution_count": 8,
   "metadata": {},
   "outputs": [],
   "source": [
    "c = 20 # in all queues, we make sure that there are no more than c customers at the end of each time interval [t - 1, t]\n",
    "\n",
    "# a stores average arrival rates\n",
    "a_avg = np.array([[0, 0.3],\n",
    "                  [0.3, 0.69]])\n",
    "\n",
    "# s stores current service\n",
    "s = np.array([[1, 0],\n",
    "              [0, 1]])\n",
    "\n",
    "def I(n):\n",
    "    A = []\n",
    "    for i in range(n):\n",
    "        A.append([1 if j == i else 0 for j in range(n)])\n",
    "    return np.array(A)\n",
    "\n",
    "allServiceMatrices = []\n",
    "for m in itertools.permutations(I(2)):\n",
    "    allServiceMatrices.append([m[i] for i in range(2)]) # allServiceMatrices.append([m[0], m[1], m[2]])\n",
    "\n",
    "def elementWiseMax(a1, a2):\n",
    "    output = np.zeros(a1.shape)\n",
    "    for i in range(len(a1)):\n",
    "        for j in range(len(a1)):\n",
    "            output[i, j] = max(a1[i, j], a2[i, j])\n",
    "    return output\n",
    "\n",
    "def elementWiseMin(a1, a2):\n",
    "    output = np.zeros(a1.shape)\n",
    "    for i in range(len(a1)):\n",
    "        for j in range(len(a1)):\n",
    "            output[i, j] = min(a1[i, j], a2[i, j])\n",
    "    return output"
   ]
  },
  {
   "cell_type": "code",
   "execution_count": 9,
   "metadata": {},
   "outputs": [
    {
     "name": "stdout",
     "output_type": "stream",
     "text": [
      "Average Arrival Rate Matrix =\n",
      "[[0.   0.3 ]\n",
      " [0.3  0.69]]\n",
      "\n",
      "Service Rate Matrix =\n",
      "[[1. 1.]\n",
      " [1. 1.]]\n",
      "\n",
      "Average Total Queue Length =\n",
      "20.198841000000268\n"
     ]
    }
   ],
   "source": [
    "# strategy 1: during each interval [t - 1, t], choose a random possible configuration\n",
    "\n",
    "def oneRandomServiceMatrix():\n",
    "    return np.array(random.sample(allServiceMatrices, 1)[0])\n",
    "\n",
    "# simulate 1,000,000 times\n",
    "\n",
    "# q stores current queue sizes\n",
    "q = np.zeros((2, 2)) # this is q at time = 0\n",
    "\n",
    "q_avg = 0 # our goal is to find this (the average total queue length)\n",
    "\n",
    "for t in range(1, 1000001):\n",
    "    a = np.random.poisson(a_avg) # this is the number of arrivals at the beginning of [t - 1, t]\n",
    "    s = oneRandomServiceMatrix() # this is the service configuration for the interval [t - 1, t]\n",
    "    q = elementWiseMin(elementWiseMax(q + a - s, np.zeros((2, 2))), np.array([[c, c], [c, c]])) # compute q at the beginning of [t, t + 1]\n",
    "    q_avg = ((t - 1) * q_avg + np.sum(q)) / t\n",
    "\n",
    "# output for strategy 1\n",
    "\n",
    "print('Average Arrival Rate Matrix =')\n",
    "print(a_avg)\n",
    "print('\\nService Rate Matrix =')\n",
    "print(np.ones((2, 2)))\n",
    "print('\\nAverage Total Queue Length =')\n",
    "print(q_avg)"
   ]
  },
  {
   "cell_type": "code",
   "execution_count": 12,
   "metadata": {},
   "outputs": [
    {
     "name": "stdout",
     "output_type": "stream",
     "text": [
      "Average Arrival Rate Matrix =\n",
      "[[0.   0.3 ]\n",
      " [0.3  0.69]]\n",
      "\n",
      "Service Rate Matrix =\n",
      "[[1. 1.]\n",
      " [1. 1.]]\n",
      "\n",
      "Average Total Queue Length =\n",
      "21.859865999999926\n"
     ]
    }
   ],
   "source": [
    "## strategy 2 (maxWeight strategy):\n",
    "# during each interval [t - 1, t], choose a configuration such that the queues being served have the maximum combined size\n",
    "\n",
    "def computeInnerProduct(a1, a2):\n",
    "    innerProduct = 0\n",
    "    for i in range(a1.shape[0]):\n",
    "        innerProduct += np.inner(a1[i], a2[i])\n",
    "    return innerProduct\n",
    "\n",
    "def maxWeightServiceMatrix(q):\n",
    "    innerProducts = []\n",
    "    for m in allServiceMatrices:\n",
    "        innerProducts.append(computeInnerProduct(q, m))\n",
    "    for m in allServiceMatrices:\n",
    "        if computeInnerProduct(q, m) == max(innerProducts):\n",
    "            return m\n",
    "\n",
    "# simulate 1,000,000 times\n",
    "\n",
    "# q stores current queue sizes\n",
    "q = np.zeros((2, 2)) # this is q at time = 0\n",
    "\n",
    "q_avg = 0 # our goal is to find this (the average total queue length)\n",
    "\n",
    "for t in range(1, 1000001):\n",
    "    a = np.random.poisson(a_avg) # this is the number of arrivals at the beginning of [t - 1, t]\n",
    "    s = maxWeightServiceMatrix(q) # this is the service configuration for the interval [t - 1, t]\n",
    "    q = elementWiseMin(elementWiseMax(q + a - s, np.zeros((2, 2))), np.array([[c, c], [c, c]])) # compute q at the beginning of [t, t + 1]\n",
    "    q_avg = ((t - 1) * q_avg + np.sum(q)) / t\n",
    "\n",
    "# output for strategy 2\n",
    "\n",
    "print('Average Arrival Rate Matrix =')\n",
    "print(a_avg)\n",
    "print('\\nService Rate Matrix =')\n",
    "print(np.ones((2, 2)))\n",
    "print('\\nAverage Total Queue Length =')\n",
    "print(q_avg)"
   ]
  }
 ],
 "metadata": {
  "kernelspec": {
   "display_name": "Python 3",
   "language": "python",
   "name": "python3"
  },
  "language_info": {
   "codemirror_mode": {
    "name": "ipython",
    "version": 3
   },
   "file_extension": ".py",
   "mimetype": "text/x-python",
   "name": "python",
   "nbconvert_exporter": "python",
   "pygments_lexer": "ipython3",
   "version": "3.7.6"
  }
 },
 "nbformat": 4,
 "nbformat_minor": 4
}
