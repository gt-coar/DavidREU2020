{
 "cells": [
  {
   "cell_type": "code",
   "execution_count": 1,
   "metadata": {},
   "outputs": [],
   "source": [
    "import numpy as np\n",
    "import itertools\n",
    "import random"
   ]
  },
  {
   "cell_type": "code",
   "execution_count": 2,
   "metadata": {},
   "outputs": [],
   "source": [
    "# a stores average arrival rates\n",
    "a_avg = np.array([[0.2, 0.3, 0.2],\n",
    "                  [0.3, 0.1, 0.25],\n",
    "                  [0.2, 0.2, 0.3]])\n",
    "\n",
    "# s stores current service\n",
    "s = np.array([[1, 0, 0],\n",
    "              [0, 1, 0],\n",
    "              [0, 0, 1]])\n",
    "\n",
    "def I(n):\n",
    "    A = []\n",
    "    for i in range(n):\n",
    "        A.append([1 if j == i else 0 for j in range(n)])\n",
    "    return np.array(A)\n",
    "\n",
    "allServiceMatrices = []\n",
    "for m in itertools.permutations(I(3)):\n",
    "    allServiceMatrices.append([m[i] for i in range(3)]) # allServiceMatrices.append([m[0], m[1], m[2]])"
   ]
  },
  {
   "cell_type": "code",
   "execution_count": 3,
   "metadata": {},
   "outputs": [
    {
     "name": "stdout",
     "output_type": "stream",
     "text": [
      "Average Arrival Rate Matrix =\n",
      "[[0.2  0.3  0.2 ]\n",
      " [0.3  0.1  0.25]\n",
      " [0.2  0.2  0.3 ]]\n",
      "\n",
      "Service Rate Matrix =\n",
      "[[1. 1. 1.]\n",
      " [1. 1. 1.]\n",
      " [1. 1. 1.]]\n",
      "\n",
      "Average Queue Size Matrix =\n",
      "[[1.165367 7.283385 1.151399]\n",
      " [7.102164 0.308334 2.424406]\n",
      " [1.155635 1.150332 7.313425]]\n"
     ]
    }
   ],
   "source": [
    "# strategy 1: during each interval [t - 1, t], choose a random possible configuration\n",
    "\n",
    "def oneRandomServiceMatrix():\n",
    "    return np.array(random.sample(allServiceMatrices, 1)[0])\n",
    "\n",
    "def elementWiseMax(a1, a2):\n",
    "    output = np.zeros(a1.shape)\n",
    "    for i in range(len(a1)):\n",
    "        for j in range(len(a1)):\n",
    "            output[i, j] = max(a1[i, j], a2[i, j])\n",
    "    return output\n",
    "\n",
    "# simulate 1,000,000 times\n",
    "\n",
    "# q stores current queue sizes\n",
    "q = np.zeros((3, 3)) # this is q at time = 0\n",
    "\n",
    "q_avg = np.zeros((3, 3)) # our goal is to find this (the average queue size for each queue)\n",
    "\n",
    "for t in range(1, 1000001):\n",
    "    a = np.random.poisson(a_avg) # this is the number of arrivals at the beginning of [t - 1, t]\n",
    "    s = oneRandomServiceMatrix() # this is the service configuration for the interval [t - 1, t]\n",
    "    q = elementWiseMax(q + a - s, np.zeros((3, 3))) # compute q at the beginning of [t, t + 1]\n",
    "    q_avg = ((t - 1) * q_avg + q) / t\n",
    "\n",
    "# output for strategy 1\n",
    "\n",
    "print('Average Arrival Rate Matrix =')\n",
    "print(a_avg)\n",
    "print('\\nService Rate Matrix =')\n",
    "print(np.ones((3, 3)))\n",
    "print('\\nAverage Queue Size Matrix =')\n",
    "print(q_avg)"
   ]
  },
  {
   "cell_type": "code",
   "execution_count": 4,
   "metadata": {},
   "outputs": [
    {
     "name": "stdout",
     "output_type": "stream",
     "text": [
      "Average Arrival Rate Matrix =\n",
      "[[0.2  0.3  0.2 ]\n",
      " [0.3  0.1  0.25]\n",
      " [0.2  0.2  0.3 ]]\n",
      "\n",
      "Service Rate Matrix =\n",
      "[[1. 1. 1.]\n",
      " [1. 1. 1.]\n",
      " [1. 1. 1.]]\n",
      "\n",
      "Average Queue Size Matrix =\n",
      "[[0.403896 0.564136 0.798271]\n",
      " [0.612048 0.193765 0.622029]\n",
      " [0.651858 0.407277 0.607556]]\n"
     ]
    }
   ],
   "source": [
    "# strategy 2 (maxWeight strategy):\n",
    "# during each interval [t - 1, t], choose a configuration such that the queues being served have the maximum combined size\n",
    "\n",
    "def computeInnerProduct(a1, a2):\n",
    "    innerProduct = 0\n",
    "    for i in range(a1.shape[0]):\n",
    "        innerProduct += np.inner(a1[i], a2[i])\n",
    "    return innerProduct\n",
    "\n",
    "def maxWeightServiceMatrix(q):\n",
    "    innerProducts = []\n",
    "    for m in allServiceMatrices:\n",
    "        innerProducts.append(computeInnerProduct(q, m))\n",
    "    for m in allServiceMatrices:\n",
    "        if computeInnerProduct(q, m) == max(innerProducts):\n",
    "            return m\n",
    "\n",
    "# simulate 1,000,000 times\n",
    "\n",
    "# q stores current queue sizes\n",
    "q = np.zeros((3, 3)) # this is q at time = 0\n",
    "\n",
    "q_avg = np.zeros((3, 3)) # our goal is to find this (the average queue size for each queue)\n",
    "\n",
    "for t in range(1, 1000001):\n",
    "    a = np.random.poisson(a_avg) # this is the number of arrivals at the beginning of [t - 1, t]\n",
    "    s = maxWeightServiceMatrix(q) # this is the service configuration for the interval [t - 1, t]\n",
    "    q = elementWiseMax(q + a - s, np.zeros((3, 3))) # compute q at the beginning of [t, t + 1]\n",
    "    q_avg = ((t - 1) * q_avg + q) / t\n",
    "\n",
    "# output for strategy 2\n",
    "\n",
    "print('Average Arrival Rate Matrix =')\n",
    "print(a_avg)\n",
    "print('\\nService Rate Matrix =')\n",
    "print(np.ones((3, 3)))\n",
    "print('\\nAverage Queue Size Matrix =')\n",
    "print(q_avg)"
   ]
  }
 ],
 "metadata": {
  "kernelspec": {
   "display_name": "Python 3",
   "language": "python",
   "name": "python3"
  },
  "language_info": {
   "codemirror_mode": {
    "name": "ipython",
    "version": 3
   },
   "file_extension": ".py",
   "mimetype": "text/x-python",
   "name": "python",
   "nbconvert_exporter": "python",
   "pygments_lexer": "ipython3",
   "version": "3.7.6"
  }
 },
 "nbformat": 4,
 "nbformat_minor": 4
}
