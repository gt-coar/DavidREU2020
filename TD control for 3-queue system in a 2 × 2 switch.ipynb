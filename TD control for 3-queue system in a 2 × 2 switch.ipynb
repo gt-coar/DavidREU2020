{
 "cells": [
  {
   "cell_type": "code",
   "execution_count": 1,
   "metadata": {},
   "outputs": [],
   "source": [
    "import numpy as np\n",
    "import matplotlib.pyplot as plt"
   ]
  },
  {
   "cell_type": "code",
   "execution_count": 2,
   "metadata": {},
   "outputs": [],
   "source": [
    "# initialize threshold/capacity c\n",
    "\n",
    "c = 4 # in all queues, we make sure that there are no more than c customers at the end of each time interval [t - 1, t]\n",
    "\n",
    "def elementWiseMin(a1, a2):\n",
    "    output = np.array([0, 0, 0])\n",
    "    for i in range(3):\n",
    "        output[i] = min(a1[i], a2[i])\n",
    "    return output\n",
    "\n",
    "def elementWiseMax(a1, a2):\n",
    "    output = np.array([0, 0, 0])\n",
    "    for i in range(3):\n",
    "        output[i] = max(a1[i], a2[i])\n",
    "    return output\n",
    "\n",
    "# initialize average arrival rates\n",
    "\n",
    "a1_avg = 0.3 # average arrival rate for queue 1 (input 1 to output 2)\n",
    "a2_avg = 0.3 # average arrival rate for queue 2 (input 2 to output 1)\n",
    "a3_avg = 0.69 # average arrival rate for queue 3 (input 2 to output 2)\n",
    "\n",
    "def anArrivalVector(a1_avg, a2_avg, a3_avg, seed):\n",
    "    np.random.seed(seed)\n",
    "    return np.array([np.random.poisson(a1_avg), np.random.poisson(a2_avg), np.random.poisson(a3_avg)])\n",
    "    # return np.array([np.random.binomial(n = 100, p = a1_avg / 100), np.random.binomial(n = 100, p = a2_avg / 100), np.random.binomial(n = 100, p = a3_avg / 100)]) \n",
    "\n",
    "def chooseEpsilonGreedyServiceConfiguration(s, Q, q, epsilon):\n",
    "    if np.random.choice(2, p = [epsilon, 1 - epsilon]) == 1: # when we need to use the greedy policy with respect to Q\n",
    "        if Q[q[0], q[1], q[2], 0] <= Q[q[0], q[1], q[2], 1]:\n",
    "            s[0] = s[1] = 1\n",
    "            return\n",
    "        s[2] = 1\n",
    "        return\n",
    "    # when we need to use the random policy\n",
    "    if np.random.choice(2) == 0:\n",
    "        s[0] = s[1] = 1\n",
    "        return\n",
    "    s[2] = 1\n",
    "\n",
    "def chooseGreedyServiceConfiguration(s, Q, q):\n",
    "    if Q[q[0], q[1], q[2], 0] <= Q[q[0], q[1], q[2], 1]:\n",
    "        s[0] = s[1] = 1\n",
    "        return\n",
    "    s[2] = 1\n",
    "\n",
    "def chooseRandomServiceConfiguration(s):\n",
    "    if np.random.choice(2) == 0:\n",
    "        s[0] = s[1] = 1\n",
    "        return\n",
    "    s[2] = 1\n",
    "\n",
    "def chooseMaxWeightServiceConfiguration(s, q):\n",
    "    if q[0] + q[1] >= q[2]:\n",
    "        s[0] = s[1] = 1\n",
    "        return\n",
    "    s[2] = 1\n",
    "\n",
    "def chooseEpsilonMaxWeightServiceConfiguration(s, q, epsilon):\n",
    "    if np.random.choice(2, p = [epsilon, 1 - epsilon]) == 1: # when we need to use the MaxWeight policy\n",
    "        chooseMaxWeightServiceConfiguration(s, q)\n",
    "        return\n",
    "    # when we need to use the random policy\n",
    "    chooseRandomServiceConfiguration(s)\n",
    "\n",
    "def chooseMaxSizeCenterConfiguration(s, q):\n",
    "    if q[2] == 0:\n",
    "        s[0] = s[1] = 1\n",
    "        return\n",
    "    if q[0] == 0 or q[1] == 0:\n",
    "        s[2] = 1\n",
    "        return\n",
    "    s[0] = s[1] = 1\n",
    "\n",
    "def chooseEpsilonMaxSizeCenterServiceConfiguration(s, q, epsilon):\n",
    "    if np.random.choice(2, p = [epsilon, 1 - epsilon]) == 1: # when we need to use the MaxSizeCenter policy\n",
    "        chooseMaxSizeCenterConfiguration(s, q)\n",
    "        return\n",
    "    # when we need to use the random policy\n",
    "    chooseRandomServiceConfiguration(s)\n",
    "\n",
    "def numberOfZeroValueStateActionPairs(Q):\n",
    "    output = 0\n",
    "    for i in range(c + 1):\n",
    "        for j in range(c + 1):\n",
    "            for k in range(c + 1):\n",
    "                for a in range(2):\n",
    "                    if Q[i, j, k, a] == 0:\n",
    "                        output += 1\n",
    "    return output\n",
    "\n",
    "def steadyStateAverageTotalQueueLengthUsingGreedyPolicy(Q):\n",
    "    \n",
    "    # simulate 500,000 times, with q1(0) = q2(0) = q3(0) = 0\n",
    "    # discard first 100,000 samples to ensure steady state\n",
    "    \n",
    "    q1, q2, q3 = np.zeros(int(5e5) + 1), np.zeros(int(5e5) + 1), np.zeros(int(5e5) + 1)\n",
    "    q1_output, q2_output, q3_output = np.zeros(int(5e5 - 1e5)), np.zeros(int(5e5 - 1e5)), np.zeros(int(5e5 - 1e5))\n",
    "\n",
    "    for t in range(1, int(5e5) + 1):\n",
    "        a = anArrivalVector(a1_avg, a2_avg, a3_avg, 2*t)\n",
    "        s = np.zeros(3)\n",
    "        chooseGreedyServiceConfiguration(s, Q, np.array([int(q1[t - 1]), int(q2[t - 1]), int(q3[t - 1])]))\n",
    "        q1[t], q2[t], q3[t] = min(max(q1[t - 1] + a[0] - s[0], 0), c), min(max(q2[t - 1] + a[1] - s[1], 0), c), min(max(q3[t - 1] + a[2] - s[2], 0), c)\n",
    "\n",
    "        if t > 1e5:\n",
    "            q1_output[t - int(1e5) - 1], q2_output[t - int(1e5) - 1], q3_output[t - int(1e5) - 1] = q1[t], q2[t], q3[t]\n",
    "\n",
    "    return np.average(q1_output + q2_output + q3_output)"
   ]
  },
  {
   "cell_type": "markdown",
   "metadata": {},
   "source": [
    "# Off-policy TD Control for Estimating Optimal Average Total Queue Length\n",
    "\n",
    "## 1. Differential Q-learning\n",
    "$\\mu_t = \\mu_{t - 1} + \\eta \\alpha \\left [r_{t - 1} - \\mu_{t - 1} + \\displaystyle \\min_{\\vec s} Q(\\vec{q}_{t}, \\vec{s}) - Q(\\vec{q}_{t - 1}, \\vec{s}_{t - 1}) \\right]$\n",
    "\n",
    "$Q(\\vec{q}_{t - 1}, \\vec{s}_{t - 1}) \\leftarrow Q(\\vec{q}_{t - 1}, \\vec{s}_{t - 1}) + \\alpha \\left [r_{t - 1} - \\mu_{t - 1} + \\displaystyle \\min_{\\vec s} Q(\\vec{q}_{t}, \\vec{s}) - Q(\\vec{q}_{t - 1}, \\vec{s}_{t - 1}) \\right]$"
   ]
  },
  {
   "cell_type": "markdown",
   "metadata": {},
   "source": [
    "### i) Behavior Policy: Epsilon-greedy Policy with Respect to Q"
   ]
  },
  {
   "cell_type": "markdown",
   "metadata": {},
   "source": [
    "### ii) Behavior Policy: Random"
   ]
  },
  {
   "cell_type": "code",
   "execution_count": 3,
   "metadata": {},
   "outputs": [],
   "source": [
    "# differential q-learning with behavior policy = random\n",
    "\n",
    "def averageTotalQueueLengthUsingDifferentialQLearning(eta, numOfIterations, alpha):\n",
    "    \n",
    "    # initialize current states q, past average reward m, and action-value estimates Q at time t = 0\n",
    "    \n",
    "    q = np.array([0, 0, 0])\n",
    "    m = 0\n",
    "    Q = np.zeros((c + 1, c + 1, c + 1, 2)) # the first 3 dimensions together represent states q, while the last represents actions s\n",
    "                                           # the first action is [1, 1, 0], and the second action is [0, 0, 1]\n",
    "    num_avg = int(0.2 * numOfIterations)\n",
    "    Q_avg = np.zeros((c + 1, c + 1, c + 1, 2)) # the average Q function over the last num_avg iterations\n",
    "    t_avg = 1\n",
    "\n",
    "    # update Q numOfIterations times (with the first one being trivial)\n",
    "\n",
    "    for t in range(1, numOfIterations + 1):\n",
    "        # right now we've got q(t - 1)\n",
    "        s = np.array([0, 0, 0])\n",
    "        chooseRandomServiceConfiguration(s) # choose service configuration s(t - 1) for the interval [t - 1, t]\n",
    "        a = anArrivalVector(a1_avg, a2_avg, a3_avg, t) # generate arrival configuration a(t - 1) for the interval [t - 1, t]\n",
    "        r = sum(q) # compute current reward r(t - 1)\n",
    "        q_t_minus_1 = q # store q(t - 1)\n",
    "        q = elementWiseMax(q + a - s, np.array([0, 0, 0]))\n",
    "        q = elementWiseMin(q, np.array([c, c, c])) # finish computing q(t)\n",
    "        m_t_minus_1 = m # store m(t - 1)\n",
    "        \n",
    "        # compute past average reward m(t) based on t, m(t - 1), current reward r(t - 1), and Q(q(t), .)\n",
    "        m = m  + eta * alpha * (r - m_t_minus_1 + min(Q[q[0], q[1], q[2], 0], Q[q[0], q[1], q[2], 1]) - Q[q_t_minus_1[0], q_t_minus_1[1], q_t_minus_1[2], s[2]])\n",
    "\n",
    "        # update action-value estimate Q(q(t - 1), s(t - 1)) based on Q(q(t - 1), s(t - 1)), Q(q(t), .), t, r(t - 1), and m(t - 1)\n",
    "        Q[q_t_minus_1[0], q_t_minus_1[1], q_t_minus_1[2], s[2]] += alpha * (r - m_t_minus_1 + min(Q[q[0], q[1], q[2], 0], Q[q[0], q[1], q[2], 1]) - Q[q_t_minus_1[0], q_t_minus_1[1], q_t_minus_1[2], s[2]])\n",
    "        \n",
    "        if t > numOfIterations - num_avg:\n",
    "            Q_avg = (1 - 1 / t_avg) * Q_avg + 1 / t_avg * Q\n",
    "            t_avg += 1\n",
    "        \n",
    "    numOfIterationsDividedByOneMillion = int(numOfIterations / 1e6)\n",
    "    print('For eta = %(eta)s, alpha = %(alpha)s, and numOfIterations = %(numOfIterationsDividedByOneMillion)se6,' % locals())\n",
    "    print('numberOfZeroValueStateActionPairs =', numberOfZeroValueStateActionPairs(Q_avg), end = ' and ')\n",
    "    temp = steadyStateAverageTotalQueueLengthUsingGreedyPolicy(Q_avg)\n",
    "    print('average total queue length \\u2248', temp, end = '\\n\\n')\n",
    "    return temp"
   ]
  },
  {
   "cell_type": "code",
   "execution_count": 4,
   "metadata": {},
   "outputs": [
    {
     "name": "stdout",
     "output_type": "stream",
     "text": [
      "For eta = 0.1, alpha = 0.0005, and numOfIterations = 5e6,\n",
      "numberOfZeroValueStateActionPairs = 0 and average total queue length ≈ 3.166635\n",
      "\n",
      "For eta = 0.1, alpha = 0.001, and numOfIterations = 5e6,\n",
      "numberOfZeroValueStateActionPairs = 0 and average total queue length ≈ 3.083155\n",
      "\n",
      "For eta = 0.1, alpha = 0.005, and numOfIterations = 5e6,\n",
      "numberOfZeroValueStateActionPairs = 0 and average total queue length ≈ 3.08264\n",
      "\n",
      "For eta = 0.1, alpha = 0.007, and numOfIterations = 5e6,\n",
      "numberOfZeroValueStateActionPairs = 0 and average total queue length ≈ 3.08264\n",
      "\n",
      "For eta = 0.1, alpha = 0.008, and numOfIterations = 5e6,\n",
      "numberOfZeroValueStateActionPairs = 0 and average total queue length ≈ 3.08264\n",
      "\n",
      "For eta = 0.1, alpha = 0.009, and numOfIterations = 5e6,\n",
      "numberOfZeroValueStateActionPairs = 0 and average total queue length ≈ 3.08264\n",
      "\n",
      "For eta = 0.1, alpha = 0.01, and numOfIterations = 5e6,\n",
      "numberOfZeroValueStateActionPairs = 0 and average total queue length ≈ 3.08264\n",
      "\n",
      "For eta = 0.1, alpha = 0.1, and numOfIterations = 5e6,\n",
      "numberOfZeroValueStateActionPairs = 0 and average total queue length ≈ 3.111\n",
      "\n",
      "For eta = 0.1, alpha = 0.2, and numOfIterations = 5e6,\n",
      "numberOfZeroValueStateActionPairs = 0 and average total queue length ≈ 3.1189775\n",
      "\n",
      "For eta = 0.1, alpha = 0.3, and numOfIterations = 5e6,\n",
      "numberOfZeroValueStateActionPairs = 0 and average total queue length ≈ 3.11112\n",
      "\n",
      "For eta = 0.1, alpha = 0.4, and numOfIterations = 5e6,\n",
      "numberOfZeroValueStateActionPairs = 0 and average total queue length ≈ 3.11112\n",
      "\n",
      "For eta = 0.1, alpha = 0.5, and numOfIterations = 5e6,\n",
      "numberOfZeroValueStateActionPairs = 0 and average total queue length ≈ 3.111975\n",
      "\n",
      "For eta = 0.1, alpha = 0.6, and numOfIterations = 5e6,\n",
      "numberOfZeroValueStateActionPairs = 0 and average total queue length ≈ 3.111975\n",
      "\n",
      "For eta = 0.1, alpha = 0.7, and numOfIterations = 5e6,\n",
      "numberOfZeroValueStateActionPairs = 0 and average total queue length ≈ 3.111975\n",
      "\n",
      "For eta = 0.1, alpha = 0.8, and numOfIterations = 5e6,\n",
      "numberOfZeroValueStateActionPairs = 0 and average total queue length ≈ 3.111815\n",
      "\n",
      "For eta = 0.1, alpha = 0.9, and numOfIterations = 5e6,\n",
      "numberOfZeroValueStateActionPairs = 0 and average total queue length ≈ 3.133055\n",
      "\n"
     ]
    },
    {
     "data": {
      "image/png": "[encoded data removed]",
      "text/plain": [
       "<Figure size 432x288 with 1 Axes>"
      ]
     },
     "metadata": {
      "needs_background": "light"
     },
     "output_type": "display_data"
    }
   ],
   "source": [
    "# investigate what alpha values are most effective\n",
    "\n",
    "eta = 0.1\n",
    "# eta = np.linspace(0, 2, 21)\n",
    "\n",
    "numOfIterations = int(5e6)\n",
    "# numOfIterations = np.array([1000000, 3000000, 6000000, 10000000])\n",
    "\n",
    "# alpha = 0.1\n",
    "alpha = np.array([0.0005, 0.001, 0.005, 0.007, 0.008, 0.009, 0.01, 0.1, 0.2, 0.3, 0.4, 0.5, 0.6, 0.7, 0.8, 0.9])\n",
    "\n",
    "avg_total_q = np.zeros(16)\n",
    "for i in range(16):\n",
    "    avg_total_q[i] = averageTotalQueueLengthUsingDifferentialQLearning(eta, numOfIterations, alpha[i])\n",
    "\n",
    "plt.plot(alpha, avg_total_q)\n",
    "plt.xlabel('Alpha')\n",
    "plt.ylabel('Average Total Queue Length')\n",
    "plt.title('Differential Q-learning with Behavior Policy = Random, eta = 0.1, and numOfIterations = 5e6')\n",
    "plt.grid()\n",
    "plt.show()"
   ]
  },
  {
   "cell_type": "code",
   "execution_count": 5,
   "metadata": {},
   "outputs": [
    {
     "name": "stdout",
     "output_type": "stream",
     "text": [
      "For eta = 0.1, alpha = 0.01, and numOfIterations = 5e6,\n",
      "numberOfZeroValueStateActionPairs = 0 and average total queue length ≈ 3.08264\n",
      "\n",
      "For eta = 0.2, alpha = 0.01, and numOfIterations = 5e6,\n",
      "numberOfZeroValueStateActionPairs = 0 and average total queue length ≈ 3.08264\n",
      "\n",
      "For eta = 0.3, alpha = 0.01, and numOfIterations = 5e6,\n",
      "numberOfZeroValueStateActionPairs = 0 and average total queue length ≈ 3.08264\n",
      "\n",
      "For eta = 0.4, alpha = 0.01, and numOfIterations = 5e6,\n",
      "numberOfZeroValueStateActionPairs = 0 and average total queue length ≈ 3.08264\n",
      "\n",
      "For eta = 0.5, alpha = 0.01, and numOfIterations = 5e6,\n",
      "numberOfZeroValueStateActionPairs = 0 and average total queue length ≈ 3.08264\n",
      "\n",
      "For eta = 0.6, alpha = 0.01, and numOfIterations = 5e6,\n",
      "numberOfZeroValueStateActionPairs = 0 and average total queue length ≈ 3.08264\n",
      "\n",
      "For eta = 0.7, alpha = 0.01, and numOfIterations = 5e6,\n",
      "numberOfZeroValueStateActionPairs = 0 and average total queue length ≈ 3.08264\n",
      "\n",
      "For eta = 0.8, alpha = 0.01, and numOfIterations = 5e6,\n",
      "numberOfZeroValueStateActionPairs = 0 and average total queue length ≈ 3.08264\n",
      "\n",
      "For eta = 0.9, alpha = 0.01, and numOfIterations = 5e6,\n",
      "numberOfZeroValueStateActionPairs = 0 and average total queue length ≈ 3.08264\n",
      "\n",
      "For eta = 1.0, alpha = 0.01, and numOfIterations = 5e6,\n",
      "numberOfZeroValueStateActionPairs = 0 and average total queue length ≈ 3.08264\n",
      "\n"
     ]
    },
    {
     "data": {
      "image/png": "[encoded data removed]",
      "text/plain": [
       "<Figure size 432x288 with 1 Axes>"
      ]
     },
     "metadata": {
      "needs_background": "light"
     },
     "output_type": "display_data"
    }
   ],
   "source": [
    "# investigate what eta values are most effective\n",
    "\n",
    "# eta = 0.1\n",
    "eta = np.array([0.1, 0.2, 0.3, 0.4, 0.5, 0.6, 0.7, 0.8, 0.9, 1])\n",
    "\n",
    "numOfIterations = int(5e6)\n",
    "# numOfIterations = np.array([1000000, 3000000, 6000000, 10000000])\n",
    "\n",
    "alpha = 0.01\n",
    "# alpha = np.array([0.005, 0.007, 0.008, 0.009, 0.01, 0.1, 0.2, 0.3, 0.4, 0.5, 0.6, 0.7, 0.8, 0.9])\n",
    "\n",
    "avg_total_q = np.zeros(10)\n",
    "for i in range(10):\n",
    "    avg_total_q[i] = averageTotalQueueLengthUsingDifferentialQLearning(eta[i], numOfIterations, alpha)\n",
    "\n",
    "plt.plot(eta, avg_total_q)\n",
    "plt.xlabel('Eta')\n",
    "plt.ylabel('Average Total Queue Length')\n",
    "plt.title('Differential Q-learning with Behavior Policy = Random, alpha = 0.01, and numOfIterations = 5e6')\n",
    "plt.grid()\n",
    "plt.show()"
   ]
  },
  {
   "cell_type": "markdown",
   "metadata": {},
   "source": [
    "### iii) Behavior Policy: Epsilon-MaxWeight"
   ]
  },
  {
   "cell_type": "markdown",
   "metadata": {},
   "source": [
    "### iv) Behavior Policy: Epsilon-MSC"
   ]
  },
  {
   "cell_type": "markdown",
   "metadata": {},
   "source": [
    "\n",
    "## 2. Relative-value-iteration (RVI) Q-learning\n",
    "$Q(\\vec{q}_{t - 1}, \\vec{s}_{t - 1}) \\leftarrow Q(\\vec{q}_{t - 1}, \\vec{s}_{t - 1}) + \\alpha \\left [r_{t - 1} + \\displaystyle \\min_{\\vec s} Q(\\vec{q}_{t}, \\vec{s}) - f(Q) - Q(\\vec{q}_{t - 1}, \\vec{s}_{t - 1}) \\right]$\n",
    "### (Behavior Policy: Random)"
   ]
  },
  {
   "cell_type": "code",
   "execution_count": 6,
   "metadata": {},
   "outputs": [],
   "source": [
    "# relative-value-iteration q-learning with behavior policy = random\n",
    "\n",
    "def averageTotalQueueLengthUsingRVIQLearning(f, numOfIterations, alpha):\n",
    "\n",
    "    # initialize current states q and action-value estimates Q at time t = 0\n",
    "\n",
    "    q = np.array([0, 0, 0])\n",
    "    Q = np.zeros((c + 1, c + 1, c + 1, 2)) # the first 3 dimensions together represent states q, while the last represents actions s\n",
    "                                           # the first action is [1, 1, 0], and the second action is [0, 0, 1]\n",
    "    num_avg = int(0.2 * numOfIterations)\n",
    "    Q_avg = np.zeros((c + 1, c + 1, c + 1, 2)) # the average Q function over the last num_avg iterations\n",
    "    t_avg = 1\n",
    "\n",
    "    # update Q numOfIterations times (with the first one being trivial)\n",
    "\n",
    "    for t in range(1, numOfIterations + 1):\n",
    "        # right now we've got q(t - 1)\n",
    "        s = np.array([0, 0, 0])\n",
    "        chooseRandomServiceConfiguration(s) # choose service configuration s(t - 1) for the interval [t - 1, t]\n",
    "        a = anArrivalVector(a1_avg, a2_avg, a3_avg, t) # generate arrival configuration a(t - 1) for the interval [t - 1, t]\n",
    "        r = sum(q) # compute current reward r(t - 1)\n",
    "        q_t_minus_1 = q # store q(t - 1)\n",
    "        q = elementWiseMin(elementWiseMax(q + a - s, np.array([0, 0, 0])), np.array([c, c, c]))\n",
    "\n",
    "        # update action-value estimate Q(q(t - 1), s(t - 1)) based on Q(q(t), .), t, r(t - 1), and Q(q(t - 1), s(t - 1))\n",
    "        Q[q_t_minus_1[0], q_t_minus_1[1], q_t_minus_1[2], s[2]] += alpha * (r + min(Q[q[0], q[1], q[2], 0], Q[q[0], q[1], q[2], 1]) - f(Q) - Q[q_t_minus_1[0], q_t_minus_1[1], q_t_minus_1[2], s[2]])\n",
    "    \n",
    "        if t > numOfIterations - num_avg:\n",
    "                Q_avg = (1 - 1 / t_avg) * Q_avg + 1 / t_avg * Q\n",
    "                t_avg += 1\n",
    "    \n",
    "    numOfIterationsDividedByOneMillion = int(numOfIterations / 1e6)\n",
    "    print('For alpha = %(alpha)s and numOfIterations = %(numOfIterationsDividedByOneMillion)se6,' % locals())\n",
    "    print('numberOfZeroValueStateActionPairs =', numberOfZeroValueStateActionPairs(Q_avg), end = ' and ')\n",
    "    temp = steadyStateAverageTotalQueueLengthUsingGreedyPolicy(Q_avg)\n",
    "    print('average total queue length \\u2248', temp, end = '\\n\\n')\n",
    "    return temp"
   ]
  },
  {
   "cell_type": "markdown",
   "metadata": {},
   "source": [
    "### i) $f(Q) = \\displaystyle \\frac{1}{2(c + 1) ^ 3}\\sum_{\\vec{q},\\ \\vec{s}} Q(\\vec{q}, \\vec{s})$\n",
    "#### where c = capacity/threshold"
   ]
  },
  {
   "cell_type": "code",
   "execution_count": 7,
   "metadata": {},
   "outputs": [],
   "source": [
    "def f(Q):\n",
    "    return (1 / (2 * (c + 1) ** 3)) * np.sum(Q)"
   ]
  },
  {
   "cell_type": "code",
   "execution_count": 8,
   "metadata": {
    "scrolled": false
   },
   "outputs": [
    {
     "name": "stdout",
     "output_type": "stream",
     "text": [
      "For alpha = 0.0005 and numOfIterations = 5e6,\n",
      "numberOfZeroValueStateActionPairs = 0 and average total queue length ≈ 3.2349\n",
      "\n",
      "For alpha = 0.001 and numOfIterations = 5e6,\n",
      "numberOfZeroValueStateActionPairs = 0 and average total queue length ≈ 3.0847275\n",
      "\n",
      "For alpha = 0.005 and numOfIterations = 5e6,\n",
      "numberOfZeroValueStateActionPairs = 0 and average total queue length ≈ 3.08264\n",
      "\n",
      "For alpha = 0.007 and numOfIterations = 5e6,\n",
      "numberOfZeroValueStateActionPairs = 0 and average total queue length ≈ 3.08264\n",
      "\n",
      "For alpha = 0.008 and numOfIterations = 5e6,\n",
      "numberOfZeroValueStateActionPairs = 0 and average total queue length ≈ 3.08264\n",
      "\n",
      "For alpha = 0.009 and numOfIterations = 5e6,\n",
      "numberOfZeroValueStateActionPairs = 0 and average total queue length ≈ 3.08264\n",
      "\n",
      "For alpha = 0.01 and numOfIterations = 5e6,\n",
      "numberOfZeroValueStateActionPairs = 0 and average total queue length ≈ 3.08264\n",
      "\n",
      "For alpha = 0.1 and numOfIterations = 5e6,\n",
      "numberOfZeroValueStateActionPairs = 0 and average total queue length ≈ 3.1189875\n",
      "\n",
      "For alpha = 0.2 and numOfIterations = 5e6,\n",
      "numberOfZeroValueStateActionPairs = 0 and average total queue length ≈ 3.119105\n",
      "\n",
      "For alpha = 0.3 and numOfIterations = 5e6,\n",
      "numberOfZeroValueStateActionPairs = 0 and average total queue length ≈ 3.1273475\n",
      "\n",
      "For alpha = 0.4 and numOfIterations = 5e6,\n",
      "numberOfZeroValueStateActionPairs = 0 and average total queue length ≈ 3.1292925\n",
      "\n",
      "For alpha = 0.5 and numOfIterations = 5e6,\n",
      "numberOfZeroValueStateActionPairs = 0 and average total queue length ≈ 3.1292925\n",
      "\n",
      "For alpha = 0.6 and numOfIterations = 5e6,\n",
      "numberOfZeroValueStateActionPairs = 0 and average total queue length ≈ 3.1292925\n",
      "\n",
      "For alpha = 0.7 and numOfIterations = 5e6,\n",
      "numberOfZeroValueStateActionPairs = 0 and average total queue length ≈ 3.1292925\n",
      "\n",
      "For alpha = 0.8 and numOfIterations = 5e6,\n",
      "numberOfZeroValueStateActionPairs = 0 and average total queue length ≈ 3.1298525\n",
      "\n",
      "For alpha = 0.9 and numOfIterations = 5e6,\n",
      "numberOfZeroValueStateActionPairs = 0 and average total queue length ≈ 3.1298525\n",
      "\n"
     ]
    },
    {
     "data": {
      "image/png": "[encoded data removed]",
      "text/plain": [
       "<Figure size 432x288 with 1 Axes>"
      ]
     },
     "metadata": {
      "needs_background": "light"
     },
     "output_type": "display_data"
    }
   ],
   "source": [
    "# investigate what alpha values are most effective\n",
    "\n",
    "numOfIterations = int(5e6)\n",
    "# numOfIterations = np.array([1000000, 3000000, 6000000, 10000000])\n",
    "\n",
    "# alpha = 0.01\n",
    "alpha = np.array([0.0005, 0.001, 0.005, 0.007, 0.008, 0.009, 0.01, 0.1, 0.2, 0.3, 0.4, 0.5, 0.6, 0.7, 0.8, 0.9])\n",
    "\n",
    "avg_total_q = np.zeros(16)\n",
    "for i in range(16):\n",
    "    avg_total_q[i] = averageTotalQueueLengthUsingRVIQLearning(f, numOfIterations, alpha[i])\n",
    "\n",
    "plt.plot(alpha, avg_total_q)\n",
    "plt.xlabel('Alpha')\n",
    "plt.ylabel('Average Total Queue Length')\n",
    "plt.title('RVI Q-learning with Behavior Policy = Random, f(Q) = Average Q Value, and numOfIterations = 5e6')\n",
    "plt.grid()\n",
    "plt.show()"
   ]
  },
  {
   "cell_type": "markdown",
   "metadata": {},
   "source": [
    "### ii) $f(Q) = \\displaystyle Q \\left(\\begin{bmatrix} 0\\\\ 0\\\\ 0 \\end{bmatrix}, \\begin{bmatrix} 1\\\\ 1\\\\ 0 \\end{bmatrix} \\right)$"
   ]
  },
  {
   "cell_type": "code",
   "execution_count": null,
   "metadata": {},
   "outputs": [],
   "source": [
    "def f(Q):\n",
    "    return Q[0, 0, 0, 0]"
   ]
  },
  {
   "cell_type": "markdown",
   "metadata": {},
   "source": [
    "### iii) $f(Q) = \\displaystyle \\min_{\\vec{s}} Q \\left(\\begin{bmatrix} 0\\\\ 0\\\\ 0 \\end{bmatrix}, \\vec{s} \\right)$"
   ]
  },
  {
   "cell_type": "code",
   "execution_count": null,
   "metadata": {},
   "outputs": [],
   "source": [
    "def f(Q):\n",
    "    return min(Q[0, 0, 0, 0], Q[0, 0, 0, 1])"
   ]
  },
  {
   "cell_type": "markdown",
   "metadata": {},
   "source": [
    "## 3. Discounted-cost Q-learning"
   ]
  },
  {
   "cell_type": "markdown",
   "metadata": {},
   "source": [
    "$Q(\\vec{q}_{t - 1}, \\vec{s}_{t - 1}) \\leftarrow Q(\\vec{q}_{t - 1}, \\vec{s}_{t - 1}) + \\alpha\\left [r_{t - 1} + \\gamma \\displaystyle \\min_{\\vec s} Q(\\vec{q}_t, \\vec{s}) - Q(\\vec{q}_{t - 1}, \\vec{s}_{t - 1}) \\right]$"
   ]
  },
  {
   "cell_type": "markdown",
   "metadata": {},
   "source": [
    "### i) Behavior Policy: Epsilon-greedy with Respect to Q"
   ]
  },
  {
   "cell_type": "markdown",
   "metadata": {},
   "source": [
    "### ii) Behavior Policy: Random"
   ]
  },
  {
   "cell_type": "code",
   "execution_count": 9,
   "metadata": {},
   "outputs": [],
   "source": [
    "# discounted-cost q-learning with behavior policy = random\n",
    "\n",
    "def averageTotalQueueLengthUsingDiscountedCostQLearning(gamma, numOfIterations, alpha):\n",
    "\n",
    "    # initialize current states q and action-value estimates Q at time t = 0\n",
    "\n",
    "    q = np.array([0, 0, 0])\n",
    "    Q = np.zeros((c + 1, c + 1, c + 1, 2)) # the first 3 dimensions together represent states q, while the last represents actions s\n",
    "                                           # the first action is [1, 1, 0], and the second action is [0, 0, 1]\n",
    "    num_avg = int(0.2 * numOfIterations)\n",
    "    Q_avg = np.zeros((c + 1, c + 1, c + 1, 2)) # the average Q function over the last num_avg iterations\n",
    "    t_avg = 1\n",
    "\n",
    "    # update Q numOfIterations times (with the first one being trivial)\n",
    "\n",
    "    for t in range(1, numOfIterations + 1):\n",
    "        # right now we've got q(t - 1)\n",
    "        s = np.array([0, 0, 0])\n",
    "        chooseRandomServiceConfiguration(s) # choose service configuration s(t - 1) for the interval [t - 1, t]\n",
    "        a = anArrivalVector(a1_avg, a2_avg, a3_avg, t) # generate arrival configuration a(t - 1) for the interval [t - 1, t]\n",
    "        r = sum(q) # compute current reward r(t - 1)\n",
    "        q_t_minus_1 = q # store q(t - 1)\n",
    "        q = elementWiseMin(elementWiseMax(q + a - s, np.array([0, 0, 0])), np.array([c, c, c]))\n",
    "\n",
    "        # update action-value estimate Q(q(t - 1), s(t - 1)) based on Q(q(t), .), t, r(t - 1), and Q(q(t - 1), s(t - 1))\n",
    "        Q[q_t_minus_1[0], q_t_minus_1[1], q_t_minus_1[2], s[2]] += alpha * (r + gamma * min(Q[q[0], q[1], q[2], 0], Q[q[0], q[1], q[2], 1]) - Q[q_t_minus_1[0], q_t_minus_1[1], q_t_minus_1[2], s[2]])\n",
    "    \n",
    "        if t > numOfIterations - num_avg:\n",
    "                Q_avg = (1 - 1 / t_avg) * Q_avg + 1 / t_avg * Q\n",
    "                t_avg += 1\n",
    "    \n",
    "    numOfIterationsDividedByOneMillion = int(numOfIterations / 1e6)\n",
    "    print('For gamma = %(gamma)s, alpha = %(alpha)s, and numOfIterations = %(numOfIterationsDividedByOneMillion)se6,' % locals())\n",
    "    print('numberOfZeroValueStateActionPairs =', numberOfZeroValueStateActionPairs(Q_avg), end = ' and ')\n",
    "    temp = steadyStateAverageTotalQueueLengthUsingGreedyPolicy(Q_avg)\n",
    "    print('average total queue length \\u2248', temp, end = '\\n\\n')\n",
    "    return temp"
   ]
  },
  {
   "cell_type": "code",
   "execution_count": 10,
   "metadata": {
    "scrolled": false
   },
   "outputs": [
    {
     "name": "stdout",
     "output_type": "stream",
     "text": [
      "For gamma = 0.99, alpha = 0.0055, and numOfIterations = 20e6,\n",
      "numberOfZeroValueStateActionPairs = 0 and average total queue length ≈ 3.173185\n",
      "\n",
      "For gamma = 0.99, alpha = 0.007, and numOfIterations = 20e6,\n",
      "numberOfZeroValueStateActionPairs = 0 and average total queue length ≈ 3.0822125\n",
      "\n",
      "For gamma = 0.99, alpha = 0.008, and numOfIterations = 20e6,\n",
      "numberOfZeroValueStateActionPairs = 0 and average total queue length ≈ 3.0825725\n",
      "\n",
      "For gamma = 0.99, alpha = 0.009, and numOfIterations = 20e6,\n",
      "numberOfZeroValueStateActionPairs = 0 and average total queue length ≈ 3.0825725\n",
      "\n",
      "For gamma = 0.99, alpha = 0.01, and numOfIterations = 20e6,\n",
      "numberOfZeroValueStateActionPairs = 0 and average total queue length ≈ 3.0825725\n",
      "\n",
      "For gamma = 0.99, alpha = 0.1, and numOfIterations = 20e6,\n",
      "numberOfZeroValueStateActionPairs = 0 and average total queue length ≈ 3.110865\n",
      "\n",
      "For gamma = 0.99, alpha = 0.2, and numOfIterations = 20e6,\n",
      "numberOfZeroValueStateActionPairs = 0 and average total queue length ≈ 3.110705\n",
      "\n",
      "For gamma = 0.99, alpha = 0.3, and numOfIterations = 20e6,\n",
      "numberOfZeroValueStateActionPairs = 0 and average total queue length ≈ 3.12802\n",
      "\n",
      "For gamma = 0.99, alpha = 0.4, and numOfIterations = 20e6,\n",
      "numberOfZeroValueStateActionPairs = 0 and average total queue length ≈ 3.12802\n",
      "\n",
      "For gamma = 0.99, alpha = 0.5, and numOfIterations = 20e6,\n",
      "numberOfZeroValueStateActionPairs = 0 and average total queue length ≈ 3.12802\n",
      "\n",
      "For gamma = 0.99, alpha = 0.6, and numOfIterations = 20e6,\n",
      "numberOfZeroValueStateActionPairs = 0 and average total queue length ≈ 3.12802\n",
      "\n",
      "For gamma = 0.99, alpha = 0.7, and numOfIterations = 20e6,\n",
      "numberOfZeroValueStateActionPairs = 0 and average total queue length ≈ 3.1292925\n",
      "\n",
      "For gamma = 0.99, alpha = 0.8, and numOfIterations = 20e6,\n",
      "numberOfZeroValueStateActionPairs = 0 and average total queue length ≈ 3.1314125\n",
      "\n",
      "For gamma = 0.99, alpha = 0.9, and numOfIterations = 20e6,\n",
      "numberOfZeroValueStateActionPairs = 0 and average total queue length ≈ 3.1314125\n",
      "\n"
     ]
    },
    {
     "data": {
      "image/png": "[encoded data removed]",
      "text/plain": [
       "<Figure size 432x288 with 1 Axes>"
      ]
     },
     "metadata": {
      "needs_background": "light"
     },
     "output_type": "display_data"
    }
   ],
   "source": [
    "# investigate what alpha values are most effective\n",
    "\n",
    "gamma = 0.99\n",
    "# gamma = np.linspace(0, 1, 21)\n",
    "\n",
    "numOfIterations = int(20e6)\n",
    "# numOfIterations = np.array([1000000, 3000000, 6000000, 10000000])\n",
    "\n",
    "# alpha = 0.01\n",
    "alpha = np.array([0.0055, 0.007, 0.008, 0.009, 0.01, 0.1, 0.2, 0.3, 0.4, 0.5, 0.6, 0.7, 0.8, 0.9])\n",
    "\n",
    "avg_total_q = np.zeros(14)\n",
    "for i in range(14):\n",
    "    avg_total_q[i] = averageTotalQueueLengthUsingDiscountedCostQLearning(gamma, numOfIterations, alpha[i])\n",
    "\n",
    "plt.plot(alpha, avg_total_q)\n",
    "plt.xlabel('Alpha')\n",
    "plt.ylabel('Average Total Queue Length')\n",
    "plt.title('Discounted-cost Q-learning with Behavior Policy = Random, gamma = 0.99, and numOfIterations = 20e6')\n",
    "plt.grid()\n",
    "plt.show()"
   ]
  },
  {
   "cell_type": "code",
   "execution_count": 11,
   "metadata": {},
   "outputs": [
    {
     "name": "stdout",
     "output_type": "stream",
     "text": [
      "For gamma = 0.1, alpha = 0.01, and numOfIterations = 20e6,\n",
      "numberOfZeroValueStateActionPairs = 0 and average total queue length ≈ 3.18689\n",
      "\n",
      "For gamma = 0.2, alpha = 0.01, and numOfIterations = 20e6,\n",
      "numberOfZeroValueStateActionPairs = 0 and average total queue length ≈ 3.1428075\n",
      "\n",
      "For gamma = 0.3, alpha = 0.01, and numOfIterations = 20e6,\n",
      "numberOfZeroValueStateActionPairs = 0 and average total queue length ≈ 3.1428075\n",
      "\n",
      "For gamma = 0.4, alpha = 0.01, and numOfIterations = 20e6,\n",
      "numberOfZeroValueStateActionPairs = 0 and average total queue length ≈ 3.14274\n",
      "\n",
      "For gamma = 0.5, alpha = 0.01, and numOfIterations = 20e6,\n",
      "numberOfZeroValueStateActionPairs = 0 and average total queue length ≈ 3.14274\n",
      "\n",
      "For gamma = 0.6, alpha = 0.01, and numOfIterations = 20e6,\n",
      "numberOfZeroValueStateActionPairs = 0 and average total queue length ≈ 3.14274\n",
      "\n",
      "For gamma = 0.7, alpha = 0.01, and numOfIterations = 20e6,\n",
      "numberOfZeroValueStateActionPairs = 0 and average total queue length ≈ 3.14274\n",
      "\n",
      "For gamma = 0.75, alpha = 0.01, and numOfIterations = 20e6,\n",
      "numberOfZeroValueStateActionPairs = 0 and average total queue length ≈ 3.1279775\n",
      "\n",
      "For gamma = 0.8, alpha = 0.01, and numOfIterations = 20e6,\n",
      "numberOfZeroValueStateActionPairs = 0 and average total queue length ≈ 3.1151675\n",
      "\n",
      "For gamma = 0.85, alpha = 0.01, and numOfIterations = 20e6,\n",
      "numberOfZeroValueStateActionPairs = 0 and average total queue length ≈ 3.0825725\n",
      "\n",
      "For gamma = 0.9, alpha = 0.01, and numOfIterations = 20e6,\n",
      "numberOfZeroValueStateActionPairs = 0 and average total queue length ≈ 3.0825725\n",
      "\n",
      "For gamma = 0.91, alpha = 0.01, and numOfIterations = 20e6,\n",
      "numberOfZeroValueStateActionPairs = 0 and average total queue length ≈ 3.0825725\n",
      "\n",
      "For gamma = 0.92, alpha = 0.01, and numOfIterations = 20e6,\n",
      "numberOfZeroValueStateActionPairs = 0 and average total queue length ≈ 3.0825725\n",
      "\n",
      "For gamma = 0.93, alpha = 0.01, and numOfIterations = 20e6,\n",
      "numberOfZeroValueStateActionPairs = 0 and average total queue length ≈ 3.0825725\n",
      "\n",
      "For gamma = 0.94, alpha = 0.01, and numOfIterations = 20e6,\n",
      "numberOfZeroValueStateActionPairs = 0 and average total queue length ≈ 3.0825725\n",
      "\n",
      "For gamma = 0.95, alpha = 0.01, and numOfIterations = 20e6,\n",
      "numberOfZeroValueStateActionPairs = 0 and average total queue length ≈ 3.0825725\n",
      "\n",
      "For gamma = 0.96, alpha = 0.01, and numOfIterations = 20e6,\n",
      "numberOfZeroValueStateActionPairs = 0 and average total queue length ≈ 3.0825725\n",
      "\n",
      "For gamma = 0.97, alpha = 0.01, and numOfIterations = 20e6,\n",
      "numberOfZeroValueStateActionPairs = 0 and average total queue length ≈ 3.0825725\n",
      "\n",
      "For gamma = 0.98, alpha = 0.01, and numOfIterations = 20e6,\n",
      "numberOfZeroValueStateActionPairs = 0 and average total queue length ≈ 3.0825725\n",
      "\n",
      "For gamma = 0.99, alpha = 0.01, and numOfIterations = 20e6,\n",
      "numberOfZeroValueStateActionPairs = 0 and average total queue length ≈ 3.0825725\n",
      "\n"
     ]
    },
    {
     "data": {
      "image/png": "[encoded data removed]",
      "text/plain": [
       "<Figure size 432x288 with 1 Axes>"
      ]
     },
     "metadata": {
      "needs_background": "light"
     },
     "output_type": "display_data"
    }
   ],
   "source": [
    "# investigate what gamma values are most effective\n",
    "\n",
    "# gamma = 0.99\n",
    "gamma = np.array([0.1, 0.2, 0.3, 0.4, 0.5, 0.6, 0.7, 0.75, 0.8, 0.85, 0.9, 0.91, 0.92, 0.93, 0.94, 0.95, 0.96, 0.97, 0.98, 0.99])\n",
    "\n",
    "numOfIterations = int(20e6)\n",
    "# numOfIterations = np.array([1000000, 3000000, 6000000, 10000000])\n",
    "\n",
    "alpha = 0.01\n",
    "# alpha = np.linspace(0.001, 0.01, 10)\n",
    "\n",
    "avg_total_q = np.zeros(20)\n",
    "for i in range(20):\n",
    "    avg_total_q[i] = averageTotalQueueLengthUsingDiscountedCostQLearning(gamma[i], numOfIterations, alpha)\n",
    "\n",
    "plt.plot(gamma, avg_total_q)\n",
    "plt.xlabel('Gamma')\n",
    "plt.ylabel('Average Total Queue Length')\n",
    "plt.title('Discounted-cost Q-learning with Behavior Policy = Random, alpha = 0.01, and numOfIterations = 20e6')\n",
    "plt.grid()\n",
    "plt.show()"
   ]
  },
  {
   "cell_type": "markdown",
   "metadata": {},
   "source": [
    "### iii) Behavior Policy: Epsilon-MaxWeight"
   ]
  },
  {
   "cell_type": "markdown",
   "metadata": {},
   "source": [
    "### iv) Behavior Policy: Epsilon-MSC"
   ]
  },
  {
   "cell_type": "markdown",
   "metadata": {},
   "source": [
    "## 4. Average-cost Q-learning\n",
    "$\\mu_t = \\displaystyle (1 - \\frac{1}{t}) \\mu_{t - 1} + \\frac{1}{t}r_{t - 1}$\n",
    "\n",
    "$Q(\\vec{q}_{t - 1}, \\vec{s}_{t - 1}) \\leftarrow Q(\\vec{q}_{t - 1}, \\vec{s}_{t - 1}) + \\alpha \\left [r_{t - 1} - \\mu_{t - 1} + \\displaystyle \\min_{\\vec s} Q(\\vec{q}_{t}, \\vec{s}) - Q(\\vec{q}_{t - 1}, \\vec{s}_{t - 1}) \\right]$"
   ]
  },
  {
   "cell_type": "markdown",
   "metadata": {},
   "source": [
    "### i) Behavior Policy: Epsilon-greedy Policy with Respect to Q"
   ]
  },
  {
   "cell_type": "code",
   "execution_count": 12,
   "metadata": {},
   "outputs": [],
   "source": [
    "# average-cost q-learning with behavior policy = epsilon-greedy\n",
    "\n",
    "def averageTotalQueueLengthUsingAverageCostQLearning(epsilon, numOfIterations, alpha):\n",
    "    \n",
    "    # initialize current states q, past average reward m, and action-value estimates Q at time t = 0\n",
    "    \n",
    "    q = np.array([0, 0, 0])\n",
    "    m = 0\n",
    "    Q = np.zeros((c + 1, c + 1, c + 1, 2)) # the first 3 dimensions together represent states q, while the last represents actions s\n",
    "                                           # the first action is [1, 1, 0], and the second action is [0, 0, 1]\n",
    "    num_avg = int(0.2 * numOfIterations)\n",
    "    Q_avg = np.zeros((c + 1, c + 1, c + 1, 2)) # the average Q function over the last num_avg iterations\n",
    "    t_avg = 1\n",
    "\n",
    "    # update Q numOfIterations times (with the first one being trivial)\n",
    "\n",
    "    for t in range(1, numOfIterations + 1):\n",
    "        # right now we've got q(t - 1)\n",
    "        s = np.array([0, 0, 0])\n",
    "        chooseEpsilonGreedyServiceConfiguration(s, Q, q, epsilon) # choose service configuration s(t - 1) for the interval [t - 1, t]\n",
    "        a = anArrivalVector(a1_avg, a2_avg, a3_avg, t) # generate arrival configuration a(t - 1) for the interval [t - 1, t]\n",
    "        r = sum(q) # compute current reward r(t - 1)\n",
    "        \n",
    "        m_t_minus_1 = m # store m(t - 1)\n",
    "        # compute past average reward m(t) based on t, m(t - 1), current reward r(t - 1)\n",
    "        m = (1 - 1 / t) * m + (1 / t) * r\n",
    "        \n",
    "        q_t_minus_1 = q # store q(t - 1)\n",
    "        q = elementWiseMax(q + a - s, np.array([0, 0, 0]))\n",
    "        q = elementWiseMin(q, np.array([c, c, c])) # finish computing q(t)\n",
    "\n",
    "        # update action-value estimate Q(q(t - 1), s(t - 1)) based on Q(q(t - 1), s(t - 1)), Q(q(t), .), t, r(t - 1), and m(t - 1)\n",
    "        Q[q_t_minus_1[0], q_t_minus_1[1], q_t_minus_1[2], s[2]] += alpha * (r - m_t_minus_1 + min(Q[q[0], q[1], q[2], 0], Q[q[0], q[1], q[2], 1]) - Q[q_t_minus_1[0], q_t_minus_1[1], q_t_minus_1[2], s[2]])\n",
    "        \n",
    "        if t > numOfIterations - num_avg:\n",
    "            Q_avg = (1 - 1 / t_avg) * Q_avg + 1 / t_avg * Q\n",
    "            t_avg += 1\n",
    "\n",
    "    print('For epsilon = %(epsilon)s, alpha = %(alpha)s, and numOfIterations = %(numOfIterations)s,' % locals())\n",
    "    print('numberOfZeroValueStateActionPairs =', numberOfZeroValueStateActionPairs(Q_avg), end = ' and ')\n",
    "    temp = steadyStateAverageTotalQueueLengthUsingGreedyPolicy(Q_avg)\n",
    "    print('average total queue length \\u2248', temp, end = '\\n\\n')\n",
    "    return temp"
   ]
  },
  {
   "cell_type": "code",
   "execution_count": 13,
   "metadata": {},
   "outputs": [
    {
     "name": "stdout",
     "output_type": "stream",
     "text": [
      "For epsilon = 0.1, alpha = 0.0003, and numOfIterations = 20000000,\n",
      "numberOfZeroValueStateActionPairs = 0 and average total queue length ≈ 6.6072\n",
      "\n",
      "For epsilon = 0.1, alpha = 0.0005, and numOfIterations = 20000000,\n",
      "numberOfZeroValueStateActionPairs = 0 and average total queue length ≈ 3.151375\n",
      "\n",
      "For epsilon = 0.1, alpha = 0.001, and numOfIterations = 20000000,\n",
      "numberOfZeroValueStateActionPairs = 0 and average total queue length ≈ 3.1562125\n",
      "\n",
      "For epsilon = 0.1, alpha = 0.005, and numOfIterations = 20000000,\n",
      "numberOfZeroValueStateActionPairs = 0 and average total queue length ≈ 3.144375\n",
      "\n",
      "For epsilon = 0.1, alpha = 0.007, and numOfIterations = 20000000,\n",
      "numberOfZeroValueStateActionPairs = 0 and average total queue length ≈ 3.145575\n",
      "\n",
      "For epsilon = 0.1, alpha = 0.008, and numOfIterations = 20000000,\n",
      "numberOfZeroValueStateActionPairs = 0 and average total queue length ≈ 3.144375\n",
      "\n",
      "For epsilon = 0.1, alpha = 0.009, and numOfIterations = 20000000,\n",
      "numberOfZeroValueStateActionPairs = 0 and average total queue length ≈ 3.1428275\n",
      "\n",
      "For epsilon = 0.1, alpha = 0.01, and numOfIterations = 20000000,\n",
      "numberOfZeroValueStateActionPairs = 0 and average total queue length ≈ 3.1428275\n",
      "\n",
      "For epsilon = 0.1, alpha = 0.1, and numOfIterations = 20000000,\n",
      "numberOfZeroValueStateActionPairs = 0 and average total queue length ≈ 3.1428275\n",
      "\n",
      "For epsilon = 0.1, alpha = 0.2, and numOfIterations = 20000000,\n",
      "numberOfZeroValueStateActionPairs = 0 and average total queue length ≈ 3.18692\n",
      "\n",
      "For epsilon = 0.1, alpha = 0.3, and numOfIterations = 20000000,\n",
      "numberOfZeroValueStateActionPairs = 0 and average total queue length ≈ 3.1872825\n",
      "\n",
      "For epsilon = 0.1, alpha = 0.4, and numOfIterations = 20000000,\n",
      "numberOfZeroValueStateActionPairs = 0 and average total queue length ≈ 3.463025\n",
      "\n",
      "For epsilon = 0.1, alpha = 0.5, and numOfIterations = 20000000,\n",
      "numberOfZeroValueStateActionPairs = 0 and average total queue length ≈ 3.463025\n",
      "\n",
      "For epsilon = 0.1, alpha = 0.6, and numOfIterations = 20000000,\n",
      "numberOfZeroValueStateActionPairs = 0 and average total queue length ≈ 4.0694325\n",
      "\n",
      "For epsilon = 0.1, alpha = 0.7, and numOfIterations = 20000000,\n",
      "numberOfZeroValueStateActionPairs = 7 and average total queue length ≈ 4.0694325\n",
      "\n",
      "For epsilon = 0.1, alpha = 0.8, and numOfIterations = 20000000,\n",
      "numberOfZeroValueStateActionPairs = 6 and average total queue length ≈ 4.1291675\n",
      "\n",
      "For epsilon = 0.1, alpha = 0.9, and numOfIterations = 20000000,\n",
      "numberOfZeroValueStateActionPairs = 5 and average total queue length ≈ 4.1291675\n",
      "\n"
     ]
    },
    {
     "data": {
      "image/png": "[encoded data removed]",
      "text/plain": [
       "<Figure size 432x288 with 1 Axes>"
      ]
     },
     "metadata": {
      "needs_background": "light"
     },
     "output_type": "display_data"
    }
   ],
   "source": [
    "# investigate what alpha values are most effective\n",
    "\n",
    "epsilon = 0.1\n",
    "# epsilon = np.array([0.05, 0.1, 0.2, 0.3, 0.4, 0.5, 0.6, 0.7, 0.8, 0.9])\n",
    "\n",
    "numOfIterations = int(20e6)\n",
    "# numOfIterations = np.array([1000000, 3000000, 6000000, 10000000])\n",
    "\n",
    "# alpha = 0.01\n",
    "alpha = np.array([0.0003, 0.0005, 0.001, 0.005, 0.007, 0.008, 0.009, 0.01, 0.1, 0.2, 0.3, 0.4, 0.5, 0.6, 0.7, 0.8, 0.9])\n",
    "\n",
    "avg_total_q = np.zeros(17)\n",
    "for i in range(17):\n",
    "    avg_total_q[i] = averageTotalQueueLengthUsingAverageCostQLearning(epsilon, numOfIterations, alpha[i])\n",
    "\n",
    "plt.plot(alpha, avg_total_q)\n",
    "plt.xlabel('Alpha')\n",
    "plt.ylabel('Average Total Queue Length')\n",
    "plt.title('Average-cost Q-learning with Behavior Policy = Epsilon-greedy, epsilon = 0.1, and numOfIterations = 20e6')\n",
    "plt.grid()\n",
    "plt.show()"
   ]
  },
  {
   "cell_type": "code",
   "execution_count": 14,
   "metadata": {},
   "outputs": [
    {
     "name": "stdout",
     "output_type": "stream",
     "text": [
      "For epsilon = 0.1, alpha = 0.01, and numOfIterations = 20000000,\n",
      "numberOfZeroValueStateActionPairs = 0 and average total queue length ≈ 3.1428275\n",
      "\n",
      "For epsilon = 0.2, alpha = 0.01, and numOfIterations = 20000000,\n",
      "numberOfZeroValueStateActionPairs = 0 and average total queue length ≈ 3.1428275\n",
      "\n",
      "For epsilon = 0.3, alpha = 0.01, and numOfIterations = 20000000,\n",
      "numberOfZeroValueStateActionPairs = 0 and average total queue length ≈ 3.1869475\n",
      "\n",
      "For epsilon = 0.4, alpha = 0.01, and numOfIterations = 20000000,\n",
      "numberOfZeroValueStateActionPairs = 0 and average total queue length ≈ 3.1869475\n",
      "\n",
      "For epsilon = 0.5, alpha = 0.01, and numOfIterations = 20000000,\n",
      "numberOfZeroValueStateActionPairs = 0 and average total queue length ≈ 3.1869475\n",
      "\n",
      "For epsilon = 0.6, alpha = 0.01, and numOfIterations = 20000000,\n",
      "numberOfZeroValueStateActionPairs = 0 and average total queue length ≈ 3.1869475\n",
      "\n",
      "For epsilon = 0.7, alpha = 0.01, and numOfIterations = 20000000,\n",
      "numberOfZeroValueStateActionPairs = 0 and average total queue length ≈ 3.1869475\n",
      "\n",
      "For epsilon = 0.8, alpha = 0.01, and numOfIterations = 20000000,\n",
      "numberOfZeroValueStateActionPairs = 0 and average total queue length ≈ 3.1869475\n",
      "\n",
      "For epsilon = 0.9, alpha = 0.01, and numOfIterations = 20000000,\n",
      "numberOfZeroValueStateActionPairs = 0 and average total queue length ≈ 3.1869475\n",
      "\n"
     ]
    },
    {
     "data": {
      "image/png": "[encoded data removed]",
      "text/plain": [
       "<Figure size 432x288 with 1 Axes>"
      ]
     },
     "metadata": {
      "needs_background": "light"
     },
     "output_type": "display_data"
    }
   ],
   "source": [
    "# investigate what epsilon values are most effective\n",
    "\n",
    "# epsilon = 0.1\n",
    "epsilon = np.array([0.1, 0.2, 0.3, 0.4, 0.5, 0.6, 0.7, 0.8, 0.9])\n",
    "\n",
    "numOfIterations = int(20e6)\n",
    "# numOfIterations = np.array([1000000, 3000000, 6000000, 10000000])\n",
    "\n",
    "alpha = 0.01\n",
    "# alpha = np.array([0.005, 0.007, 0.008, 0.009, 0.01, 0.1, 0.2, 0.3, 0.4, 0.5, 0.6, 0.7, 0.8, 0.9])\n",
    "\n",
    "avg_total_q = np.zeros(9)\n",
    "for i in range(9):\n",
    "    avg_total_q[i] = averageTotalQueueLengthUsingAverageCostQLearning(epsilon[i], numOfIterations, alpha)\n",
    "\n",
    "plt.plot(epsilon, avg_total_q)\n",
    "plt.xlabel('Epsilon')\n",
    "plt.ylabel('Average Total Queue Length')\n",
    "plt.title('Average-cost Q-learning with Behavior Policy = Epsilon-greedy, alpha = 0.01, and numOfIterations = 20e6')\n",
    "plt.grid()\n",
    "plt.show()"
   ]
  },
  {
   "cell_type": "markdown",
   "metadata": {},
   "source": [
    "### ii) Behavior Policy: Random"
   ]
  },
  {
   "cell_type": "markdown",
   "metadata": {},
   "source": [
    "### iii) Behavior Policy: Epsilon-MaxWeight"
   ]
  },
  {
   "cell_type": "markdown",
   "metadata": {},
   "source": [
    "### iv) Behavior Policy: Epsilon-MSC"
   ]
  },
  {
   "cell_type": "markdown",
   "metadata": {},
   "source": [
    "# On-policy TD Control for Estimating Optimal Average Total Queue Length\n",
    "## (Average-cost Sarsa)\n",
    "$Q(\\vec{q}_{t - 1}, \\vec{s}_{t - 1}) \\leftarrow Q(\\vec{q}_{t - 1}, \\vec{s}_{t - 1}) + \\frac{1}{t}\\left [r_{t - 1} - \\mu_{t - 1} + Q(\\vec{q}_{t}, \\vec{s}_{t}) - Q(\\vec{q}_{t - 1}, \\vec{s}_{t - 1}) \\right]$"
   ]
  },
  {
   "cell_type": "code",
   "execution_count": 15,
   "metadata": {},
   "outputs": [],
   "source": [
    "def averageTotalQueueLengthUsingAverageCostSarsa(epsilon, numOfIterations, alpha):\n",
    "    \n",
    "    # initialize current states q, past average reward m, and action-value estimates Q at time t = 0\n",
    "\n",
    "    q = np.array([0, 0, 0])\n",
    "    m = 0\n",
    "    Q = np.zeros((c + 1, c + 1, c + 1, 2)) # the first 3 dimensions together represent states q, while the last represents actions s\n",
    "                                           # the first action is [1, 1, 0], and the second action is [0, 0, 1]\n",
    "    num_avg = int(0.2 * numOfIterations)\n",
    "    Q_avg = np.zeros((c + 1, c + 1, c + 1, 2)) # the average Q function over the last num_avg iterations\n",
    "    t_avg = 1\n",
    "\n",
    "    # choose action (service configuration) s at time t = 0\n",
    "    s = np.array([0, 0, 0])\n",
    "    chooseEpsilonGreedyServiceConfiguration(s, Q, q, epsilon) # determine s(0)\n",
    "\n",
    "    # update Q 10,000,000 times (with the first one being trivial)\n",
    "\n",
    "    for t in range(1, numOfIterations + 1):\n",
    "        # right now we've got q(t - 1), s(t - 1), and m(t - 1)\n",
    "        a = anArrivalVector(a1_avg, a2_avg, a3_avg, t) # generate arrival configuration a(t - 1) for the interval [t - 1, t]\n",
    "        r = sum(q) # compute current reward r(t - 1)\n",
    "        m_t_minus_1 = m # store m(t - 1)\n",
    "        m = (1 - 1 / t) * m  + 1 / t * r # compute past average reward m(t) based on t, m(t - 1), and current reward r(t - 1)\n",
    "        q_t_minus_1 = q # store q(t - 1)\n",
    "        q = elementWiseMax(q + a - s, np.array([0, 0, 0]))\n",
    "        q = elementWiseMin(q, np.array([c, c, c])) # finish computing q(t)\n",
    "        s_t_minus_1 = s # store s(t - 1)\n",
    "        s = np.array([0, 0, 0])\n",
    "        chooseEpsilonGreedyServiceConfiguration(s, Q, q, epsilon) # determine s(t)\n",
    "\n",
    "        # update action-value estimate Q(q(t - 1), s(t - 1)) based on Q(q(t - 1), s(t - 1)), t, r(t - 1), m(t - 1), and Q(q(t), s(t))\n",
    "        Q[q_t_minus_1[0], q_t_minus_1[1], q_t_minus_1[2], s_t_minus_1[2]] += alpha * (r - m_t_minus_1 + Q[q[0], q[1], q[2], s[2]] - Q[q_t_minus_1[0], q_t_minus_1[1], q_t_minus_1[2], s_t_minus_1[2]])\n",
    "    \n",
    "        if t > numOfIterations - num_avg:\n",
    "                Q_avg = (1 - 1 / t_avg) * Q_avg + 1 / t_avg * Q\n",
    "                t_avg += 1\n",
    "    \n",
    "    numOfIterationsDividedByOneMillion = int(numOfIterations / 1e6)\n",
    "    print('For epsilon = %(epsilon)s, alpha = %(alpha)s, and numOfIterations = %(numOfIterationsDividedByOneMillion)se6,' % locals())\n",
    "    print('numberOfZeroValueStateActionPairs =', numberOfZeroValueStateActionPairs(Q_avg), end = ' and ')\n",
    "    temp = steadyStateAverageTotalQueueLengthUsingGreedyPolicy(Q_avg)\n",
    "    print('average total queue length \\u2248', temp, end = '\\n\\n')\n",
    "    return temp"
   ]
  },
  {
   "cell_type": "code",
   "execution_count": 16,
   "metadata": {},
   "outputs": [
    {
     "name": "stdout",
     "output_type": "stream",
     "text": [
      "For epsilon = 0.1, alpha = 2e-05, and numOfIterations = 100e6,\n",
      "numberOfZeroValueStateActionPairs = 0 and average total queue length ≈ 3.22462\n",
      "\n",
      "For epsilon = 0.1, alpha = 5e-05, and numOfIterations = 100e6,\n",
      "numberOfZeroValueStateActionPairs = 0 and average total queue length ≈ 3.1700175\n",
      "\n",
      "For epsilon = 0.1, alpha = 0.0001, and numOfIterations = 100e6,\n",
      "numberOfZeroValueStateActionPairs = 0 and average total queue length ≈ 3.1430175\n",
      "\n",
      "For epsilon = 0.1, alpha = 0.0005, and numOfIterations = 100e6,\n",
      "numberOfZeroValueStateActionPairs = 0 and average total queue length ≈ 3.083155\n",
      "\n",
      "For epsilon = 0.1, alpha = 0.001, and numOfIterations = 100e6,\n",
      "numberOfZeroValueStateActionPairs = 0 and average total queue length ≈ 3.083155\n",
      "\n",
      "For epsilon = 0.1, alpha = 0.005, and numOfIterations = 100e6,\n",
      "numberOfZeroValueStateActionPairs = 0 and average total queue length ≈ 3.0825725\n",
      "\n",
      "For epsilon = 0.1, alpha = 0.007, and numOfIterations = 100e6,\n",
      "numberOfZeroValueStateActionPairs = 0 and average total queue length ≈ 3.0825725\n",
      "\n",
      "For epsilon = 0.1, alpha = 0.01, and numOfIterations = 100e6,\n",
      "numberOfZeroValueStateActionPairs = 0 and average total queue length ≈ 3.0825725\n",
      "\n",
      "For epsilon = 0.1, alpha = 0.1, and numOfIterations = 100e6,\n",
      "numberOfZeroValueStateActionPairs = 0 and average total queue length ≈ 3.1153275\n",
      "\n",
      "For epsilon = 0.1, alpha = 0.2, and numOfIterations = 100e6,\n",
      "numberOfZeroValueStateActionPairs = 0 and average total queue length ≈ 3.14274\n",
      "\n",
      "For epsilon = 0.1, alpha = 0.3, and numOfIterations = 100e6,\n",
      "numberOfZeroValueStateActionPairs = 0 and average total queue length ≈ 3.14276\n",
      "\n",
      "For epsilon = 0.1, alpha = 0.6, and numOfIterations = 100e6,\n",
      "numberOfZeroValueStateActionPairs = 0 and average total queue length ≈ 3.14276\n",
      "\n",
      "For epsilon = 0.1, alpha = 0.7, and numOfIterations = 100e6,\n",
      "numberOfZeroValueStateActionPairs = 0 and average total queue length ≈ 3.1428075\n",
      "\n",
      "For epsilon = 0.1, alpha = 0.8, and numOfIterations = 100e6,\n",
      "numberOfZeroValueStateActionPairs = 0 and average total queue length ≈ 3.1428275\n",
      "\n",
      "For epsilon = 0.1, alpha = 0.9, and numOfIterations = 100e6,\n",
      "numberOfZeroValueStateActionPairs = 0 and average total queue length ≈ 3.186705\n",
      "\n"
     ]
    },
    {
     "data": {
      "image/png": "[encoded data removed]",
      "text/plain": [
       "<Figure size 432x288 with 1 Axes>"
      ]
     },
     "metadata": {
      "needs_background": "light"
     },
     "output_type": "display_data"
    }
   ],
   "source": [
    "# investigate what alpha values are most effective\n",
    "\n",
    "epsilon = 0.1\n",
    "\n",
    "numOfIterations = int(100e6)\n",
    "\n",
    "# alpha = 0.01\n",
    "alpha = np.array([0.00002, 0.00005, 0.0001, 0.0005, 0.001, 0.005, 0.007, 0.01, 0.1, 0.2, 0.3, 0.6, 0.7, 0.8, 0.9])\n",
    "\n",
    "avg_total_q = np.zeros(15)\n",
    "for i in range(15):\n",
    "    avg_total_q[i] = averageTotalQueueLengthUsingAverageCostSarsa(epsilon, numOfIterations, alpha[i])\n",
    "\n",
    "plt.plot(alpha, avg_total_q)\n",
    "plt.xlabel('Alpha')\n",
    "plt.ylabel('Average Total Queue Length')\n",
    "plt.title('Average-cost Sarsa with Behavior Policy = Epsilon-greedy, epsilon = 0.1, and numOfIterations = 100e6')\n",
    "plt.grid()\n",
    "plt.show()"
   ]
  },
  {
   "cell_type": "code",
   "execution_count": 17,
   "metadata": {},
   "outputs": [
    {
     "name": "stdout",
     "output_type": "stream",
     "text": [
      "For epsilon = 0.1, alpha = 0.01, and numOfIterations = 100e6,\n",
      "numberOfZeroValueStateActionPairs = 0 and average total queue length ≈ 3.0825725\n",
      "\n",
      "For epsilon = 0.2, alpha = 0.01, and numOfIterations = 100e6,\n",
      "numberOfZeroValueStateActionPairs = 0 and average total queue length ≈ 3.0825725\n",
      "\n",
      "For epsilon = 0.3, alpha = 0.01, and numOfIterations = 100e6,\n",
      "numberOfZeroValueStateActionPairs = 0 and average total queue length ≈ 3.0825725\n",
      "\n",
      "For epsilon = 0.4, alpha = 0.01, and numOfIterations = 100e6,\n",
      "numberOfZeroValueStateActionPairs = 0 and average total queue length ≈ 3.0825725\n",
      "\n",
      "For epsilon = 0.5, alpha = 0.01, and numOfIterations = 100e6,\n",
      "numberOfZeroValueStateActionPairs = 0 and average total queue length ≈ 3.0825725\n",
      "\n",
      "For epsilon = 0.6, alpha = 0.01, and numOfIterations = 100e6,\n",
      "numberOfZeroValueStateActionPairs = 0 and average total queue length ≈ 3.082815\n",
      "\n",
      "For epsilon = 0.7, alpha = 0.01, and numOfIterations = 100e6,\n",
      "numberOfZeroValueStateActionPairs = 0 and average total queue length ≈ 3.083155\n",
      "\n",
      "For epsilon = 0.8, alpha = 0.01, and numOfIterations = 100e6,\n",
      "numberOfZeroValueStateActionPairs = 0 and average total queue length ≈ 3.083155\n",
      "\n",
      "For epsilon = 0.9, alpha = 0.01, and numOfIterations = 100e6,\n",
      "numberOfZeroValueStateActionPairs = 0 and average total queue length ≈ 3.083155\n",
      "\n"
     ]
    },
    {
     "data": {
      "image/png": "[encoded data removed]",
      "text/plain": [
       "<Figure size 432x288 with 1 Axes>"
      ]
     },
     "metadata": {
      "needs_background": "light"
     },
     "output_type": "display_data"
    }
   ],
   "source": [
    "# investigate what epsilon values are most effective\n",
    "\n",
    "# epsilon = 0.1\n",
    "epsilon = np.array([0.1, 0.2, 0.3, 0.4, 0.5, 0.6, 0.7, 0.8, 0.9])\n",
    "\n",
    "numOfIterations = int(100e6)\n",
    "\n",
    "alpha = 0.01\n",
    "\n",
    "avg_total_q = np.zeros(9)\n",
    "for i in range(9):\n",
    "    avg_total_q[i] = averageTotalQueueLengthUsingAverageCostSarsa(epsilon[i], numOfIterations, alpha)\n",
    "\n",
    "plt.plot(epsilon, avg_total_q)\n",
    "plt.xlabel('Epsilon')\n",
    "plt.ylabel('Average Total Queue Length')\n",
    "plt.title('Average-cost Sarsa with Behavior Policy = Epsilon-greedy, alpha = 0.01, and numOfIterations = 100e6')\n",
    "plt.grid()\n",
    "plt.show()"
   ]
  },
  {
   "cell_type": "markdown",
   "metadata": {},
   "source": [
    "# Average Total Queue Length Using Random Policy"
   ]
  },
  {
   "cell_type": "code",
   "execution_count": 18,
   "metadata": {},
   "outputs": [
    {
     "name": "stdout",
     "output_type": "stream",
     "text": [
      "Random Policy Gives\n",
      "Average Total Queue Length ≈ 4.3633425\n"
     ]
    }
   ],
   "source": [
    "# random policy:\n",
    "# during each interval [t - 1, t], choose a random configuration\n",
    "\n",
    "# simulate 500,000 times, with q1(0) = q2(0) = q3(0) = 0\n",
    "# discard first 100,000 samples to ensure steady state\n",
    "\n",
    "q1, q2, q3 = np.zeros(int(5e5 + 1)), np.zeros(int(5e5 + 1)), np.zeros(int(5e5 + 1))\n",
    "q1_output, q2_output, q3_output = np.zeros(int(5e5 - 1e5)), np.zeros(int(5e5 - 1e5)), np.zeros(int(5e5 - 1e5))\n",
    "\n",
    "for t in range(1, int(5e5 + 1)):\n",
    "    a = anArrivalVector(a1_avg, a2_avg, a3_avg, 2*t)\n",
    "    s = np.zeros(3)\n",
    "    chooseRandomServiceConfiguration(s)\n",
    "    q1[t], q2[t], q3[t] = min(max(q1[t - 1] + a[0] - s[0], 0), c), min(max(q2[t - 1] + a[1] - s[1], 0), c), min(max(q3[t - 1] + a[2] - s[2], 0), c)\n",
    "\n",
    "    if t > 1e5:\n",
    "        q1_output[t - int(1e5) - 1], q2_output[t - int(1e5) - 1], q3_output[t - int(1e5) - 1] = q1[t], q2[t], q3[t]\n",
    "\n",
    "# output\n",
    "\n",
    "print('Random Policy Gives')\n",
    "print('Average Total Queue Length \\u2248', np.average(q1_output + q2_output + q3_output))"
   ]
  },
  {
   "cell_type": "markdown",
   "metadata": {},
   "source": [
    "# Average Total Queue Length Using MaxWeight Policy"
   ]
  },
  {
   "cell_type": "code",
   "execution_count": 19,
   "metadata": {
    "scrolled": true
   },
   "outputs": [
    {
     "name": "stdout",
     "output_type": "stream",
     "text": [
      "MaxWeight Policy Gives\n",
      "Average Total Queue Length ≈ 4.1297025\n"
     ]
    }
   ],
   "source": [
    "# MaxWeight policy:\n",
    "# during each interval [t - 1, t], choose a configuration such that the queues being served have the maximum combined size\n",
    "\n",
    "# simulate 500,000 times, with q1(0) = q2(0) = q3(0) = 0\n",
    "# discard first 100,000 samples to ensure steady state\n",
    "\n",
    "q1, q2, q3 = np.zeros(int(5e5 + 1)), np.zeros(int(5e5 + 1)), np.zeros(int(5e5 + 1))\n",
    "q1_output, q2_output, q3_output = np.zeros(int(5e5 - 1e5)), np.zeros(int(5e5 - 1e5)), np.zeros(int(5e5 - 1e5))\n",
    "\n",
    "for t in range(1, int(5e5 + 1)):\n",
    "    a = anArrivalVector(a1_avg, a2_avg, a3_avg, 2*t)\n",
    "    s = np.zeros(3)\n",
    "    chooseMaxWeightServiceConfiguration(s, np.array([int(q1[t - 1]), int(q2[t - 1]), int(q3[t - 1])]))\n",
    "    q1[t], q2[t], q3[t] = min(max(q1[t - 1] + a[0] - s[0], 0), c), min(max(q2[t - 1] + a[1] - s[1], 0), c), min(max(q3[t - 1] + a[2] - s[2], 0), c)\n",
    "\n",
    "    if t > 1e5:\n",
    "        q1_output[t - int(1e5) - 1], q2_output[t - int(1e5) - 1], q3_output[t - int(1e5) - 1] = q1[t], q2[t], q3[t]\n",
    "\n",
    "# output\n",
    "\n",
    "print('MaxWeight Policy Gives')\n",
    "print('Average Total Queue Length \\u2248', np.average(q1_output + q2_output + q3_output))"
   ]
  },
  {
   "cell_type": "markdown",
   "metadata": {},
   "source": [
    "# Average Total Queue Length Using MSC Policy"
   ]
  },
  {
   "cell_type": "code",
   "execution_count": 20,
   "metadata": {},
   "outputs": [
    {
     "name": "stdout",
     "output_type": "stream",
     "text": [
      "MaxSizeCenter Policy Gives\n",
      "Average Total Queue Length ≈ 3.75844\n"
     ]
    }
   ],
   "source": [
    "# MaxSizeCenter policy:\n",
    "# during each interval [t - 1, t], choose a configuration that serves the first two queues unless both of them are empty and the third one is not\n",
    "\n",
    "# simulate 500,000 times, with q1(0) = q2(0) = q3(0) = 0\n",
    "# discard first 100,000 samples to ensure steady state\n",
    "\n",
    "q1, q2, q3 = np.zeros(int(5e5 + 1)), np.zeros(int(5e5 + 1)), np.zeros(int(5e5 + 1))\n",
    "q1_output, q2_output, q3_output = np.zeros(int(5e5 - 1e5)), np.zeros(int(5e5 - 1e5)), np.zeros(int(5e5 - 1e5))\n",
    "\n",
    "for t in range(1, int(5e5 + 1)):\n",
    "    a = anArrivalVector(a1_avg, a2_avg, a3_avg, 2*t)\n",
    "    s = np.zeros(3)\n",
    "    chooseMaxSizeCenterConfiguration(s, np.array([int(q1[t - 1]), int(q2[t - 1]), int(q3[t - 1])]))\n",
    "    q1[t], q2[t], q3[t] = min(max(q1[t - 1] + a[0] - s[0], 0), c), min(max(q2[t - 1] + a[1] - s[1], 0), c), min(max(q3[t - 1] + a[2] - s[2], 0), c)\n",
    "\n",
    "    if t > 1e5:\n",
    "        q1_output[t - int(1e5) - 1], q2_output[t - int(1e5) - 1], q3_output[t - int(1e5) - 1] = q1[t], q2[t], q3[t]\n",
    "\n",
    "# output\n",
    "\n",
    "print('MaxSizeCenter Policy Gives')\n",
    "print('Average Total Queue Length \\u2248', np.average(q1_output + q2_output + q3_output))"
   ]
  }
 ],
 "metadata": {
  "kernelspec": {
   "display_name": "Python 3",
   "language": "python",
   "name": "python3"
  },
  "language_info": {
   "codemirror_mode": {
    "name": "ipython",
    "version": 3
   },
   "file_extension": ".py",
   "mimetype": "text/x-python",
   "name": "python",
   "nbconvert_exporter": "python",
   "pygments_lexer": "ipython3",
   "version": "3.7.6"
  }
 },
 "nbformat": 4,
 "nbformat_minor": 4
}
